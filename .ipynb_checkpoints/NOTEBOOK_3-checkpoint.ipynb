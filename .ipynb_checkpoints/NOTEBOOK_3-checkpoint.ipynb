{
 "cells": [
  {
   "cell_type": "code",
   "execution_count": 1,
   "metadata": {},
   "outputs": [],
   "source": [
    "import numpy as np"
   ]
  },
  {
   "cell_type": "markdown",
   "metadata": {},
   "source": [
    "## Example: Four data points with 4 BINARY features."
   ]
  },
  {
   "cell_type": "code",
   "execution_count": 2,
   "metadata": {},
   "outputs": [],
   "source": [
    "X = np.array([[0, 1, 0, 1],\n",
    "[1, 0, 1, 1],\n",
    "[0, 0, 0, 1],\n",
    "[1, 0, 1, 0]])\n",
    "y = np.array([0, 1, 0, 1])"
   ]
  },
  {
   "cell_type": "code",
   "execution_count": 3,
   "metadata": {},
   "outputs": [
    {
     "name": "stdout",
     "output_type": "stream",
     "text": [
      "Feature counts:\n",
      "{0: array([0, 1, 0, 2]), 1: array([2, 0, 2, 1])}\n"
     ]
    }
   ],
   "source": [
    "counts = {}\n",
    "## Label here represents any of the two classes: 0 or 1.\n",
    "\n",
    "for label in np.unique(y):\n",
    "    counts[label] = X[y == label].sum(axis=0)\n",
    "\n",
    "print(f\"Feature counts:\\n{counts}\")"
   ]
  },
  {
   "cell_type": "code",
   "execution_count": 5,
   "metadata": {},
   "outputs": [
    {
     "name": "stdout",
     "output_type": "stream",
     "text": [
      "The accuracy = 95.0%\n"
     ]
    }
   ],
   "source": [
    "from sklearn.datasets import load_iris\n",
    "from sklearn.model_selection import train_test_split\n",
    "from sklearn.naive_bayes import GaussianNB\n",
    "from sklearn import metrics\n",
    "\n",
    "loadiris = load_iris()\n",
    "X = loadiris.data\n",
    "y = loadiris.target\n",
    "\n",
    "X_train, X_test, y_train, y_test = train_test_split(X,  y, test_size=0.4, random_state=1)\n",
    "\n",
    "GNB = GaussianNB()\n",
    "GNB.fit(X_train, y_train)\n",
    "\n",
    "y_pred = GNB.predict(X_test)\n",
    "print(\"The accuracy = {}%\".format(metrics.accuracy_score(y_test, y_pred) * 100))"
   ]
  }
 ],
 "metadata": {
  "kernelspec": {
   "display_name": "Python 3",
   "language": "python",
   "name": "python3"
  },
  "language_info": {
   "codemirror_mode": {
    "name": "ipython",
    "version": 3
   },
   "file_extension": ".py",
   "mimetype": "text/x-python",
   "name": "python",
   "nbconvert_exporter": "python",
   "pygments_lexer": "ipython3",
   "version": "3.8.3"
  }
 },
 "nbformat": 4,
 "nbformat_minor": 4
}
