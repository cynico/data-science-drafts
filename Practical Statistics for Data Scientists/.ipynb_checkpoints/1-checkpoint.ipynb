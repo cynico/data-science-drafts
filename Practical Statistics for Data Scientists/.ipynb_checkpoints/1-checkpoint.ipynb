{
 "cells": [
  {
   "cell_type": "code",
   "execution_count": 13,
   "metadata": {},
   "outputs": [],
   "source": [
    "import pandas as pd\n",
    "import numpy as np\n",
    "from scipy.stats import trim_mean\n",
    "\n",
    "import wquantiles"
   ]
  },
  {
   "cell_type": "code",
   "execution_count": 11,
   "metadata": {},
   "outputs": [
    {
     "name": "stdout",
     "output_type": "stream",
     "text": [
      "6162876.3\n",
      "4783697.125\n",
      "4436369.5\n"
     ]
    }
   ],
   "source": [
    "state = pd.read_csv(\"./practical-statistics-for-data-scientists-master/data/state.csv\")\n",
    "\n",
    "print(state['Population'].mean())\n",
    "\n",
    "# 0.1 drops 10% from each end.\n",
    "print(trim_mean(state['Population'], 0.1))\n",
    "print(state[\"Population\"].median())"
   ]
  },
  {
   "cell_type": "code",
   "execution_count": 15,
   "metadata": {},
   "outputs": [
    {
     "name": "stdout",
     "output_type": "stream",
     "text": [
      "4.445833981123393\n",
      "4.4\n"
     ]
    }
   ],
   "source": [
    "# weighted mean of murder rates.\n",
    "print(np.average(state[\"Murder.Rate\"], weights=state[\"Population\"]))\n",
    "\n",
    "# weighted median of murder rates.\n",
    "print(wquantiles.median(state[\"Murder.Rate\"], weights=state[\"Population\"]))"
   ]
  }
 ],
 "metadata": {
  "kernelspec": {
   "display_name": "Python 3",
   "language": "python",
   "name": "python3"
  },
  "language_info": {
   "codemirror_mode": {
    "name": "ipython",
    "version": 3
   },
   "file_extension": ".py",
   "mimetype": "text/x-python",
   "name": "python",
   "nbconvert_exporter": "python",
   "pygments_lexer": "ipython3",
   "version": "3.8.3"
  }
 },
 "nbformat": 4,
 "nbformat_minor": 4
}
