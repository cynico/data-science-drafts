{
 "cells": [
  {
   "cell_type": "code",
   "execution_count": 46,
   "metadata": {},
   "outputs": [],
   "source": [
    "import pandas as pd\n",
    "import numpy as np\n",
    "from scipy.stats import trim_mean\n",
    "from statsmodels import robust\n",
    "\n",
    "import matplotlib.pyplot as plt\n",
    "import wquantiles"
   ]
  },
  {
   "cell_type": "code",
   "execution_count": 11,
   "metadata": {},
   "outputs": [
    {
     "name": "stdout",
     "output_type": "stream",
     "text": [
      "6162876.3\n",
      "4783697.125\n",
      "4436369.5\n"
     ]
    }
   ],
   "source": [
    "state = pd.read_csv(\"./practical-statistics-for-data-scientists-master/data/state.csv\")\n",
    "\n",
    "print(state['Population'].mean())\n",
    "\n",
    "# 0.1 drops 10% from each end.\n",
    "print(trim_mean(state['Population'], 0.1))\n",
    "print(state[\"Population\"].median())"
   ]
  },
  {
   "cell_type": "code",
   "execution_count": 16,
   "metadata": {},
   "outputs": [
    {
     "name": "stdout",
     "output_type": "stream",
     "text": [
      "4.445833981123393\n",
      "4.4\n"
     ]
    }
   ],
   "source": [
    "# weighted mean of murder rates.\n",
    "print(np.average(state[\"Murder.Rate\"], weights=state[\"Population\"]))\n",
    "\n",
    "# weighted median of murder rates.\n",
    "print(wquantiles.median(state[\"Murder.Rate\"], weights=state[\"Population\"]))"
   ]
  },
  {
   "cell_type": "code",
   "execution_count": 27,
   "metadata": {},
   "outputs": [
    {
     "name": "stdout",
     "output_type": "stream",
     "text": [
      "1833004.25\n",
      "1839667.5\n",
      "1826341\n"
     ]
    }
   ],
   "source": [
    "print(np.quantile(state[\"Population\"], 0.25, interpolation=\"linear\"))\n",
    "print(np.quantile(state[\"Population\"], 0.25, interpolation=\"midpoint\"))\n",
    "print(np.quantile(state[\"Population\"], 0.25, interpolation=\"nearest\"))\n",
    "\n",
    "# help(np.quantile)"
   ]
  },
  {
   "cell_type": "code",
   "execution_count": 38,
   "metadata": {},
   "outputs": [
    {
     "name": "stdout",
     "output_type": "stream",
     "text": [
      "Standard deviation of the population = 6848235.347401142\n",
      "IQR of the population = 4847308.0\n",
      "Median absolute deviation = 3849876.1459979336\n"
     ]
    }
   ],
   "source": [
    "print(\"Standard deviation of the population =\", state[\"Population\"].std())\n",
    "print(\"IQR of the population =\", state[\"Population\"].quantile(0.75) - state[\"Population\"].quantile(0.25))\n",
    "print(\"Median absolute deviation =\", robust.scale.mad(state[\"Population\"]))"
   ]
  },
  {
   "cell_type": "code",
   "execution_count": 39,
   "metadata": {},
   "outputs": [
    {
     "data": {
      "text/plain": [
       "0.05    1.600\n",
       "0.25    2.425\n",
       "0.50    4.000\n",
       "0.75    5.550\n",
       "0.95    6.510\n",
       "Name: Murder.Rate, dtype: float64"
      ]
     },
     "execution_count": 39,
     "metadata": {},
     "output_type": "execute_result"
    }
   ],
   "source": [
    "state[\"Murder.Rate\"].quantile([0.05, 0.25, 0.50, 0.75, 0.95])"
   ]
  },
  {
   "cell_type": "markdown",
   "metadata": {},
   "source": [
    "### Boxplots."
   ]
  },
  {
   "cell_type": "code",
   "execution_count": 79,
   "metadata": {},
   "outputs": [
    {
     "data": {
      "application/vnd.jupyter.widget-view+json": {
       "model_id": "53470631fb044381becb16e3f158f874",
       "version_major": 2,
       "version_minor": 0
      },
      "text/plain": [
       "Canvas(toolbar=Toolbar(toolitems=[('Home', 'Reset original view', 'home', 'home'), ('Back', 'Back to previous …"
      ]
     },
     "metadata": {},
     "output_type": "display_data"
    },
    {
     "data": {
      "text/plain": [
       "Text(0, 0.5, 'Population (millions)')"
      ]
     },
     "execution_count": 79,
     "metadata": {},
     "output_type": "execute_result"
    }
   ],
   "source": [
    "%matplotlib widget\n",
    "\n",
    "plt.boxplot(state[\"Population\"]/1_000_000)\n",
    "plt.ylabel(\"Population (millions)\")"
   ]
  },
  {
   "cell_type": "code",
   "execution_count": 65,
   "metadata": {},
   "outputs": [
    {
     "name": "stdout",
     "output_type": "stream",
     "text": [
      "24\n",
      "14\n",
      "6\n",
      "2\n",
      "1\n",
      "1\n",
      "1\n",
      "1\n",
      "0\n",
      "0\n"
     ]
    }
   ],
   "source": [
    "binnedPopulation = pd.cut(state[\"Population\"], 10)\n",
    "for x in binnedPopulation.value_counts():\n",
    "    print(x)"
   ]
  },
  {
   "cell_type": "code",
   "execution_count": 67,
   "metadata": {},
   "outputs": [
    {
     "data": {
      "application/vnd.jupyter.widget-view+json": {
       "model_id": "f682984672ab47bd89b974e7fa7dc3e9",
       "version_major": 2,
       "version_minor": 0
      },
      "text/plain": [
       "Canvas(toolbar=Toolbar(toolitems=[('Home', 'Reset original view', 'home', 'home'), ('Back', 'Back to previous …"
      ]
     },
     "metadata": {},
     "output_type": "display_data"
    },
    {
     "data": {
      "text/plain": [
       "Text(0.5, 0, 'Population (millions)')"
      ]
     },
     "execution_count": 67,
     "metadata": {},
     "output_type": "execute_result"
    }
   ],
   "source": [
    "%matplotlib widget\n",
    "ax = (state[\"Population\"] / 1_000_000).plot.hist(figsize=(4, 4))\n",
    "ax.set_xlabel(\"Population (millions)\")"
   ]
  },
  {
   "cell_type": "code",
   "execution_count": 78,
   "metadata": {},
   "outputs": [
    {
     "data": {
      "application/vnd.jupyter.widget-view+json": {
       "model_id": "a991289106954454a6f06acb45d9bf41",
       "version_major": 2,
       "version_minor": 0
      },
      "text/plain": [
       "Canvas(toolbar=Toolbar(toolitems=[('Home', 'Reset original view', 'home', 'home'), ('Back', 'Back to previous …"
      ]
     },
     "metadata": {},
     "output_type": "display_data"
    },
    {
     "data": {
      "text/plain": [
       "Text(0.5, 0, 'Population (millions)')"
      ]
     },
     "execution_count": 78,
     "metadata": {},
     "output_type": "execute_result"
    }
   ],
   "source": [
    "%matplotlib widget\n",
    "ax = (state[\"Murder.Rate\"]).plot.hist(density=True, xlim=[0,12], bins=range(1,12))\n",
    "state[\"Murder.Rate\"].plot.density(ax=ax)\n",
    "ax.set_xlabel(\"Population (millions)\")"
   ]
  }
 ],
 "metadata": {
  "kernelspec": {
   "display_name": "Python 3",
   "language": "python",
   "name": "python3"
  },
  "language_info": {
   "codemirror_mode": {
    "name": "ipython",
    "version": 3
   },
   "file_extension": ".py",
   "mimetype": "text/x-python",
   "name": "python",
   "nbconvert_exporter": "python",
   "pygments_lexer": "ipython3",
   "version": "3.8.3"
  }
 },
 "nbformat": 4,
 "nbformat_minor": 4
}
